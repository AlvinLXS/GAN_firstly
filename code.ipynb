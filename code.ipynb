{
 "cells": [
  {
   "cell_type": "code",
   "execution_count": 1,
   "metadata": {
    "collapsed": true
   },
   "outputs": [],
   "source": [
    "import numpy as np\n",
    "import matplotlib.pyplot as plt\n",
    "import tensorflow as tf\n",
    "%matplotlib inline"
   ]
  },
  {
   "cell_type": "code",
   "execution_count": 2,
   "metadata": {
    "collapsed": true
   },
   "outputs": [],
   "source": [
    "LENGTH = 1000  # 每一个样本由1000个\n",
    "\n",
    "def sample_data(size, length=100):\n",
    "    \"\"\"\n",
    "    生成值得均值和方差的数据\n",
    "    :param size:\n",
    "    :param length:\n",
    "    :return:\n",
    "    \"\"\"\n",
    "    data = []\n",
    "    for _ in range(size):\n",
    "        data.append(sorted(np.random.normal(4, 1.5, length)))\n",
    "    return np.array(data)\n",
    "\n",
    "def random_data(size, length=100):\n",
    "    \"\"\"\n",
    "    随机生成数据\n",
    "    :param size:\n",
    "    :param length:\n",
    "    :return:\n",
    "    \"\"\"\n",
    "    data = []\n",
    "    for _ in range(size):\n",
    "        x = np.random.random(length) \n",
    "        data.append(x)\n",
    "    return np.array(data)\n",
    "\n",
    "\n",
    "def preprocess_data(x):\n",
    "    \"\"\"\n",
    "    计算每一组数据平均值和方差\n",
    "    :param x:\n",
    "    :return:\n",
    "    \"\"\"\n",
    "    return [[np.mean(data), np.std(data)] for data in x]"
   ]
  },
  {
   "cell_type": "code",
   "execution_count": 3,
   "metadata": {
    "collapsed": true
   },
   "outputs": [],
   "source": [
    "x = tf.placeholder(tf.float32, shape=[None, 2], name=\"feature\")  # [mean，std] -》 D\n",
    "y = tf.placeholder(tf.float32, shape=[None, 1], name=\"label\")\n",
    "in_size = LENGTH\n",
    "out_size = LENGTH\n",
    "\n",
    "###################################### G  网络结构\n",
    "# 第一层\n",
    "z = tf.placeholder(tf.float32, shape=[None, LENGTH], name=\"noise\")  # 随机值噪音\n",
    "Weights = tf.Variable(tf.random_normal([in_size, 32]))\n",
    "biases = tf.Variable(tf.zeros([1, 32]) + 0.1)\n",
    "G_output = tf.matmul(z, Weights) + biases\n",
    "G_output = tf.nn.relu(G_output)\n",
    "# 第二层\n",
    "Weights2 = tf.Variable(tf.random_normal([32, 32]))\n",
    "biases2 = tf.Variable(tf.zeros([1, 32]) + 0.1)\n",
    "G_output2 = tf.matmul(G_output, Weights2) + biases2\n",
    "G_output2 = tf.nn.sigmoid(G_output2)\n",
    "# 第三层\n",
    "Weights3 = tf.Variable(tf.random_normal([32, out_size]))\n",
    "biases3 = tf.Variable(tf.zeros([1, out_size]) + 0.1)\n",
    "\n",
    "G_output3 = tf.matmul(G_output2, Weights3) + biases3\n",
    "\n",
    "G_PARAMS = [Weights, biases, Weights2, biases2, Weights3, biases3]  # G的参数\n",
    "\n",
    "###################################### D 网络结构(预训练的D)\n",
    "# 第一层\n",
    "\n",
    "dWeights = tf.Variable(tf.random_normal([2, 32]), name=\"D_W\")\n",
    "dbiases = tf.Variable(tf.zeros([1, 32]) + 0.1, name=\"D_b\")\n",
    "D_output = tf.matmul(x, dWeights) + dbiases\n",
    "D_output = tf.nn.relu(D_output)\n",
    "# 第二层\n",
    "dWeights2 = tf.Variable(tf.random_normal([32, 32]), name=\"D_W2\")\n",
    "dbiases2 = tf.Variable(tf.zeros([1, 32]) + 0.1, name=\"D_b2\")   \n",
    "D_output2 = tf.matmul(D_output, dWeights2) + dbiases2\n",
    "D_output2 = tf.nn.sigmoid(D_output2)\n",
    "\n",
    "# 第三层\n",
    "dWeights3 = tf.Variable(tf.random_normal([32, 1]), name=\"D_W3\")\n",
    "dbiases3 = tf.Variable(tf.zeros([1, 1]) + 0.1, name=\"D_b3\")\n",
    "D_output3_ = tf.matmul(D_output2, dWeights3) + dbiases3\n",
    "D_output3 = tf.nn.sigmoid(D_output3_)\n",
    "\n",
    "D_PARAMS = [dWeights, dbiases,\n",
    "            dWeights2, dbiases2,\n",
    "            dWeights3, dbiases3]\n",
    "\n",
    "##################################### GAN的结构\n",
    "\n",
    "# 先求出G_output3的各行平均值和方差\n",
    "MEAN = tf.reduce_mean(G_output3, 1)  # 行向量\n",
    "MEAN_T = tf.transpose(tf.expand_dims(MEAN, 0))  # 转置\n",
    "STD = tf.sqrt(tf.reduce_mean(tf.square(G_output3 - MEAN_T), 1))\n",
    "DATA = tf.concat([MEAN_T,tf.transpose(tf.expand_dims(STD, 0))],1)\n",
    "\n",
    "# GAN中的D\n",
    "GAN_Weights = tf.Variable(tf.random_normal([2, 32]), name=\"GAN_W\")\n",
    "GAN_biases = tf.Variable(tf.zeros([1, 32]) + 0.1, name=\"GAN_b\")\n",
    "GAN_output = tf.matmul(DATA, GAN_Weights) + GAN_biases\n",
    "GAN_output = tf.nn.relu(GAN_output)\n",
    "# 第二层\n",
    "GAN_Weights2 = tf.Variable(tf.random_normal([32, 32]), name=\"GAN_W2\")\n",
    "GAN_biases2 = tf.Variable(tf.zeros([1, 32]) + 0.1, name=\"GAN_b2\")\n",
    "GAN_output2 = tf.matmul(GAN_output, GAN_Weights2) + GAN_biases2\n",
    "GAN_output2 = tf.nn.sigmoid(GAN_output2)\n",
    "\n",
    "# 第三层\n",
    "GAN_Weights3 = tf.Variable(tf.random_normal([32, 1]), name=\"GAN_W3\")\n",
    "GAN_biases3 = tf.Variable(tf.zeros([1, 1]) + 0.1, name=\"GAN_b3\")\n",
    "GAN_output3_ = tf.matmul(GAN_output2, GAN_Weights3) + GAN_biases3\n",
    "GAN_output3 = tf.nn.sigmoid(GAN_output3_)\n",
    "\n",
    "GAN_D_PARAMS = [GAN_Weights, GAN_biases,\n",
    "                GAN_Weights2, GAN_biases2,\n",
    "                GAN_Weights3, GAN_biases3]"
   ]
  },
  {
   "cell_type": "code",
   "execution_count": 4,
   "metadata": {
    "collapsed": true
   },
   "outputs": [],
   "source": [
    "##################################### 定义损失函数\n",
    "d_loss = tf.reduce_mean(tf.nn.sigmoid_cross_entropy_with_logits(labels=D_output3_, logits=y))  # 二分类交叉熵\n",
    "g_loss = tf.reduce_mean(tf.nn.sigmoid_cross_entropy_with_logits(labels=GAN_output3_, logits=y))  # GAN二分类交叉熵"
   ]
  },
  {
   "cell_type": "code",
   "execution_count": 5,
   "metadata": {
    "collapsed": true
   },
   "outputs": [],
   "source": [
    "#################################### 定义优化器\n",
    "d_optimizer = tf.train.GradientDescentOptimizer(0.01).minimize(\n",
    "    d_loss,\n",
    "    global_step=tf.Variable(0),\n",
    "    var_list=D_PARAMS\n",
    ")\n",
    "\n",
    "g_optimizer = tf.train.GradientDescentOptimizer(0.05).minimize(\n",
    "    g_loss,\n",
    "    global_step=tf.Variable(0),\n",
    "    var_list=G_PARAMS\n",
    ")"
   ]
  },
  {
   "cell_type": "code",
   "execution_count": 6,
   "metadata": {},
   "outputs": [
    {
     "name": "stdout",
     "output_type": "stream",
     "text": [
      "train GAN....\n",
      "[   0] GAN-d-loss: -5.480423450470  GAN-g-loss: -4.800157546997   generate-mean: 0.2037   generate-std: 3.6465\n",
      "[  20] GAN-d-loss: -100.311775207520  GAN-g-loss: -201.355621337891   generate-mean: 3.1758   generate-std: 2.0388\n",
      "[  40] GAN-d-loss: -195.306381225586  GAN-g-loss: -391.382781982422   generate-mean: 3.3217   generate-std: 1.9510\n",
      "[  60] GAN-d-loss: -290.290924072266  GAN-g-loss: -581.360290527344   generate-mean: 3.3899   generate-std: 1.9167\n",
      "[  80] GAN-d-loss: -385.306457519531  GAN-g-loss: -771.394531250000   generate-mean: 3.4329   generate-std: 1.8988\n",
      "[ 100] GAN-d-loss: -480.326873779297  GAN-g-loss: -961.437316894531   generate-mean: 3.4641   generate-std: 1.8872\n",
      "[ 120] GAN-d-loss: -575.347106933594  GAN-g-loss: -1151.478637695312   generate-mean: 3.4886   generate-std: 1.8789\n",
      "[ 140] GAN-d-loss: -670.320129394531  GAN-g-loss: -1341.423706054688   generate-mean: 3.5085   generate-std: 1.8727\n",
      "[ 160] GAN-d-loss: -765.267822265625  GAN-g-loss: -1531.320190429688   generate-mean: 3.5253   generate-std: 1.8677\n",
      "[ 180] GAN-d-loss: -860.216003417969  GAN-g-loss: -1721.215332031250   generate-mean: 3.5398   generate-std: 1.8637\n",
      "[ 199] GAN-d-loss: -950.416076660156  GAN-g-loss: -1901.616821289062   generate-mean: 3.5524   generate-std: 1.8593\n",
      "train finish...\n"
     ]
    }
   ],
   "source": [
    "d_loss_history = []\n",
    "g_loss_history = []\n",
    "epoch = 200\n",
    "with tf.Session() as sess:\n",
    "    sess.run(tf.global_variables_initializer())\n",
    "    # GAN博弈开始\n",
    "    print('train GAN....')\n",
    "    for step in range(epoch):\n",
    "        # 先进行GAN中的D的训练，即对生成样本的判断\n",
    "        for _ in range(100):\n",
    "            # 使用G生成一批样本:\n",
    "            real = sample_data(100,length=LENGTH)\n",
    "            noise = random_data(100,length=LENGTH)\n",
    "            generate = sess.run(G_output3, feed_dict={\n",
    "                z: noise\n",
    "            })  # 生成样本\n",
    "            X = list(real) + list(generate)  \n",
    "            X = preprocess_data(X)\n",
    "            Y = [[1] for _ in range(len(real))] + [[0] for _ in range(len(generate))]\n",
    "            d_loss_value, _ = sess.run([d_loss, d_optimizer], feed_dict={\n",
    "                x: X,\n",
    "                y: Y\n",
    "            })  # 训练判别网络\n",
    "            d_loss_history.append(d_loss_value)\n",
    "        # 将参数移动过去GAN中的判别网络\n",
    "        dp_value = sess.run(D_PARAMS)\n",
    "        for i, v in enumerate(GAN_D_PARAMS):\n",
    "            sess.run(v.assign(dp_value[i]))\n",
    "\n",
    "        for _ in range(100):\n",
    "            noise = random_data(100,length=LENGTH)\n",
    "            g_loss_value, _ = sess.run([g_loss, g_optimizer], feed_dict={\n",
    "                z: noise,\n",
    "                y: [[1] for _ in range(len(noise))]  # 混肴为目标,不需要加入x，我们只是借助G，并不需要训练G\n",
    "            })  # 调整G，让GAN的误差减少\n",
    "            g_loss_history.append(g_loss_value)\n",
    "        if step % 20 == 0 or step+1 == epoch:\n",
    "            noise = random_data(1,length=LENGTH)\n",
    "            generate = sess.run(G_output3, feed_dict={\n",
    "                z: noise\n",
    "            })\n",
    "            print(\"[%4d] GAN-d-loss: %.12f  GAN-g-loss: %.12f   generate-mean: %.4f   generate-std: %.4f\" % (step,\n",
    "                            d_loss_value, g_loss_value,generate.mean() ,generate.std() ))\n",
    "            \n",
    "            \n",
    "    print(\"train finish...\")"
   ]
  },
  {
   "cell_type": "code",
   "execution_count": 2,
   "metadata": {},
   "outputs": [
    {
     "ename": "NameError",
     "evalue": "name 'plt' is not defined",
     "output_type": "error",
     "traceback": [
      "\u001b[1;31m---------------------------------------------------------------------------\u001b[0m",
      "\u001b[1;31mNameError\u001b[0m                                 Traceback (most recent call last)",
      "\u001b[1;32m<ipython-input-2-e2b297ddd057>\u001b[0m in \u001b[0;36m<module>\u001b[1;34m()\u001b[0m\n\u001b[1;32m----> 1\u001b[1;33m \u001b[0mplt\u001b[0m\u001b[1;33m.\u001b[0m\u001b[0msubplot\u001b[0m\u001b[1;33m(\u001b[0m\u001b[1;36m211\u001b[0m\u001b[1;33m)\u001b[0m\u001b[1;33m\u001b[0m\u001b[0m\n\u001b[0m\u001b[0;32m      2\u001b[0m \u001b[0mplt\u001b[0m\u001b[1;33m.\u001b[0m\u001b[0mplot\u001b[0m\u001b[1;33m(\u001b[0m\u001b[0md_loss_history\u001b[0m\u001b[1;33m)\u001b[0m\u001b[1;33m\u001b[0m\u001b[0m\n\u001b[0;32m      3\u001b[0m \u001b[0ma\u001b[0m \u001b[1;33m=\u001b[0m \u001b[0mplt\u001b[0m\u001b[1;33m.\u001b[0m\u001b[0msubplot\u001b[0m\u001b[1;33m(\u001b[0m\u001b[1;36m212\u001b[0m\u001b[1;33m)\u001b[0m\u001b[1;33m\u001b[0m\u001b[0m\n\u001b[0;32m      4\u001b[0m \u001b[0mplt\u001b[0m\u001b[1;33m.\u001b[0m\u001b[0mplot\u001b[0m\u001b[1;33m(\u001b[0m\u001b[0mg_loss_history\u001b[0m\u001b[1;33m,\u001b[0m\u001b[0mc\u001b[0m\u001b[1;33m=\u001b[0m\u001b[1;34m\"g\"\u001b[0m\u001b[1;33m)\u001b[0m\u001b[1;33m\u001b[0m\u001b[0m\n",
      "\u001b[1;31mNameError\u001b[0m: name 'plt' is not defined"
     ]
    }
   ],
   "source": [
    "plt.subplot(211)\n",
    "plt.plot(d_loss_history)\n",
    "a = plt.subplot(212)\n",
    "plt.plot(g_loss_history,c=\"g\")"
   ]
  },
  {
   "cell_type": "code",
   "execution_count": 8,
   "metadata": {},
   "outputs": [
    {
     "data": {
      "text/plain": [
       "[<matplotlib.lines.Line2D at 0x24e1b4c8c50>]"
      ]
     },
     "execution_count": 8,
     "metadata": {},
     "output_type": "execute_result"
    },
    {
     "data": {
      "image/png": "[encoded data removed]",
      "text/plain": [
       "<matplotlib.figure.Figure at 0x24e1b449438>"
      ]
     },
     "metadata": {},
     "output_type": "display_data"
    }
   ],
   "source": [
    "real = sample_data(1,length=LENGTH)\n",
    "(data, bins) = np.histogram(real[0])\n",
    "plt.plot(bins[:-1], data, c=\"g\")\n",
    "\n",
    "(data, bins) = np.histogram(noise[0])\n",
    "plt.plot(bins[:-1], data, c=\"b\")\n",
    "\n",
    "# with tf.Session() as sess:\n",
    "#     sess.run(tf.global_variables_initializer())\n",
    "#     generate = sess.run(G_output3, feed_dict={\n",
    "#             z: noise\n",
    "#     })\n",
    "(data, bins) = np.histogram(generate[0])\n",
    "plt.plot(bins[:-1], data, c=\"r\")"
   ]
  },
  {
   "cell_type": "code",
   "execution_count": 9,
   "metadata": {},
   "outputs": [
    {
     "data": {
      "text/plain": [
       "array([ 1.31326169,  0.69314718])"
      ]
     },
     "execution_count": 9,
     "metadata": {},
     "output_type": "execute_result"
    }
   ],
   "source": [
    "#x - x * z + log(1 + exp(-x))\n",
    "\n",
    "pre = np.array([1,0])\n",
    "real = np.array([0,1])\n",
    "\n",
    "pre-pre*real + np.log(1+np.exp(-pre))"
   ]
  },
  {
   "cell_type": "code",
   "execution_count": 10,
   "metadata": {
    "collapsed": true
   },
   "outputs": [],
   "source": [
    "plt.show()"
   ]
  },
  {
   "cell_type": "code",
   "execution_count": null,
   "metadata": {
    "collapsed": true
   },
   "outputs": [],
   "source": []
  }
 ],
 "metadata": {
  "kernelspec": {
   "display_name": "Python 3",
   "language": "python",
   "name": "python3"
  },
  "language_info": {
   "codemirror_mode": {
    "name": "ipython",
    "version": 3
   },
   "file_extension": ".py",
   "mimetype": "text/x-python",
   "name": "python",
   "nbconvert_exporter": "python",
   "pygments_lexer": "ipython3",
   "version": "3.5.3"
  }
 },
 "nbformat": 4,
 "nbformat_minor": 1
}
